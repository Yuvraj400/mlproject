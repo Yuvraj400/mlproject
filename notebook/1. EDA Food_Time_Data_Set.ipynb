{
 "cells": [
  {
   "cell_type": "markdown",
   "metadata": {},
   "source": []
  },
  {
   "cell_type": "markdown",
   "metadata": {},
   "source": [
    "# Food time data"
   ]
  },
  {
   "cell_type": "markdown",
   "metadata": {
    "vscode": {
     "languageId": "plaintext"
    }
   },
   "source": [
    "#### Life cycle of Machine learning Project\n",
    "\n",
    "- understanding the Problem Statement \n",
    "- Data Collection \n",
    "- Data Checks to perform \n",
    "- Exploratory data analysis\n",
    "- Data Pre-Processing \n",
    "- Model Training \n",
    "- Choose best Model"
   ]
  },
  {
   "cell_type": "markdown",
   "metadata": {},
   "source": [
    "### 1) problem Satement\n",
    "\n",
    "- his dataset aims to accurately predict food delivery times, considering a comprehensive set of features such as delivery personnel characteristics, environmental factors, and real-time conditions. Unlike existing models used by applications like Blinkit, Zomato, and Swiggy, this dataset integrates variables like weather, traffic, and vehicle type to create a holistic prediction framework"
   ]
  },
  {
   "cell_type": "markdown",
   "metadata": {},
   "source": [
    "### 2) Data Collection \n",
    "\n",
    "- Data source- https://www.kaggle.com/datasets/gautamdeora7/food-delivery-time-a-multi-factor-dataset/data\n",
    "\n",
    "- The data consists of 18 columns and 10001 rows."
   ]
  },
  {
   "cell_type": "markdown",
   "metadata": {},
   "source": [
    "### 2.1 Import Data and Required Packages\n",
    "\n",
    "importing Pandas, Numpy, Matplotlib, Seaborn and Warings Library."
   ]
  },
  {
   "cell_type": "code",
   "execution_count": 3,
   "metadata": {},
   "outputs": [],
   "source": [
    "import pandas as pd \n",
    "import numpy as np\n",
    "import seaborn as sns\n",
    "import matplotlib.pyplot as plt\n",
    "%matplotlib inline  \n",
    "import warnings\n",
    "warnings.filterwarnings('ignore')"
   ]
  },
  {
   "cell_type": "markdown",
   "metadata": {},
   "source": [
    "Import the CSV Data as Pandas DataFrame"
   ]
  },
  {
   "cell_type": "code",
   "execution_count": 4,
   "metadata": {},
   "outputs": [],
   "source": [
    "df = pd.read_csv('data\\Food_Time_Data_Set.csv')"
   ]
  },
  {
   "cell_type": "markdown",
   "metadata": {},
   "source": [
    "Show Top 5 row "
   ]
  },
  {
   "cell_type": "code",
   "execution_count": 5,
   "metadata": {},
   "outputs": [
    {
     "data": {
      "text/html": [
       "<div>\n",
       "<style scoped>\n",
       "    .dataframe tbody tr th:only-of-type {\n",
       "        vertical-align: middle;\n",
       "    }\n",
       "\n",
       "    .dataframe tbody tr th {\n",
       "        vertical-align: top;\n",
       "    }\n",
       "\n",
       "    .dataframe thead th {\n",
       "        text-align: right;\n",
       "    }\n",
       "</style>\n",
       "<table border=\"1\" class=\"dataframe\">\n",
       "  <thead>\n",
       "    <tr style=\"text-align: right;\">\n",
       "      <th></th>\n",
       "      <th>ID</th>\n",
       "      <th>Delivery_person_ID</th>\n",
       "      <th>Delivery_person_Age</th>\n",
       "      <th>Delivery_person_Ratings</th>\n",
       "      <th>Restaurant_latitude</th>\n",
       "      <th>Restaurant_longitude</th>\n",
       "      <th>Delivery_location_latitude</th>\n",
       "      <th>Delivery_location_longitude</th>\n",
       "      <th>Type_of_order</th>\n",
       "      <th>Type_of_vehicle</th>\n",
       "      <th>temperature</th>\n",
       "      <th>humidity</th>\n",
       "      <th>precipitation</th>\n",
       "      <th>weather_description</th>\n",
       "      <th>Unnamed: 14</th>\n",
       "      <th>Traffic_Level</th>\n",
       "      <th>Distance (km)</th>\n",
       "      <th>TARGET</th>\n",
       "    </tr>\n",
       "  </thead>\n",
       "  <tbody>\n",
       "    <tr>\n",
       "      <th>0</th>\n",
       "      <td>4607</td>\n",
       "      <td>INDORES13DEL02</td>\n",
       "      <td>37.0</td>\n",
       "      <td>4.9</td>\n",
       "      <td>22.745049</td>\n",
       "      <td>75.892471</td>\n",
       "      <td>22.765049</td>\n",
       "      <td>75.912471</td>\n",
       "      <td>Snack</td>\n",
       "      <td>motorcycle</td>\n",
       "      <td>17.11</td>\n",
       "      <td>77.0</td>\n",
       "      <td>0.0</td>\n",
       "      <td>haze</td>\n",
       "      <td>NaN</td>\n",
       "      <td>Low</td>\n",
       "      <td>NaN</td>\n",
       "      <td>21.66666667</td>\n",
       "    </tr>\n",
       "    <tr>\n",
       "      <th>1</th>\n",
       "      <td>B379</td>\n",
       "      <td>BANGRES18DEL02</td>\n",
       "      <td>34.0</td>\n",
       "      <td>4.5</td>\n",
       "      <td>12.913041</td>\n",
       "      <td>77.683237</td>\n",
       "      <td>13.043041</td>\n",
       "      <td>77.813237</td>\n",
       "      <td>Snack</td>\n",
       "      <td>scooter</td>\n",
       "      <td>19.50</td>\n",
       "      <td>93.0</td>\n",
       "      <td>0.0</td>\n",
       "      <td>mist</td>\n",
       "      <td>NaN</td>\n",
       "      <td>Very High</td>\n",
       "      <td>37.17</td>\n",
       "      <td>85.26666667</td>\n",
       "    </tr>\n",
       "    <tr>\n",
       "      <th>2</th>\n",
       "      <td>5D6D</td>\n",
       "      <td>BANGRES19DEL01</td>\n",
       "      <td>23.0</td>\n",
       "      <td>4.4</td>\n",
       "      <td>12.914264</td>\n",
       "      <td>77.678400</td>\n",
       "      <td>12.924264</td>\n",
       "      <td>77.688400</td>\n",
       "      <td>Drinks</td>\n",
       "      <td>motorcycle</td>\n",
       "      <td>20.45</td>\n",
       "      <td>91.0</td>\n",
       "      <td>0.0</td>\n",
       "      <td>mist</td>\n",
       "      <td>NaN</td>\n",
       "      <td>Low</td>\n",
       "      <td>3.34</td>\n",
       "      <td>28.58333333</td>\n",
       "    </tr>\n",
       "    <tr>\n",
       "      <th>3</th>\n",
       "      <td>7A6A</td>\n",
       "      <td>COIMBRES13DEL02</td>\n",
       "      <td>38.0</td>\n",
       "      <td>4.7</td>\n",
       "      <td>11.003669</td>\n",
       "      <td>76.976494</td>\n",
       "      <td>11.053669</td>\n",
       "      <td>77.026494</td>\n",
       "      <td>Buffet</td>\n",
       "      <td>motorcycle</td>\n",
       "      <td>23.86</td>\n",
       "      <td>78.0</td>\n",
       "      <td>0.0</td>\n",
       "      <td>mist</td>\n",
       "      <td>NaN</td>\n",
       "      <td>Moderate</td>\n",
       "      <td>10.05</td>\n",
       "      <td>35.18333333</td>\n",
       "    </tr>\n",
       "    <tr>\n",
       "      <th>4</th>\n",
       "      <td>70A2</td>\n",
       "      <td>CHENRES12DEL01</td>\n",
       "      <td>32.0</td>\n",
       "      <td>4.6</td>\n",
       "      <td>12.972793</td>\n",
       "      <td>80.249982</td>\n",
       "      <td>13.012793</td>\n",
       "      <td>80.289982</td>\n",
       "      <td>Snack</td>\n",
       "      <td>scooter</td>\n",
       "      <td>26.55</td>\n",
       "      <td>87.0</td>\n",
       "      <td>0.0</td>\n",
       "      <td>mist</td>\n",
       "      <td>NaN</td>\n",
       "      <td>High</td>\n",
       "      <td>9.89</td>\n",
       "      <td>43.45</td>\n",
       "    </tr>\n",
       "  </tbody>\n",
       "</table>\n",
       "</div>"
      ],
      "text/plain": [
       "     ID Delivery_person_ID  Delivery_person_Age  Delivery_person_Ratings  \\\n",
       "0  4607     INDORES13DEL02                 37.0                      4.9   \n",
       "1  B379     BANGRES18DEL02                 34.0                      4.5   \n",
       "2  5D6D     BANGRES19DEL01                 23.0                      4.4   \n",
       "3  7A6A    COIMBRES13DEL02                 38.0                      4.7   \n",
       "4  70A2     CHENRES12DEL01                 32.0                      4.6   \n",
       "\n",
       "   Restaurant_latitude  Restaurant_longitude  Delivery_location_latitude  \\\n",
       "0            22.745049             75.892471                   22.765049   \n",
       "1            12.913041             77.683237                   13.043041   \n",
       "2            12.914264             77.678400                   12.924264   \n",
       "3            11.003669             76.976494                   11.053669   \n",
       "4            12.972793             80.249982                   13.012793   \n",
       "\n",
       "   Delivery_location_longitude Type_of_order Type_of_vehicle  temperature  \\\n",
       "0                    75.912471        Snack      motorcycle         17.11   \n",
       "1                    77.813237        Snack         scooter         19.50   \n",
       "2                    77.688400       Drinks      motorcycle         20.45   \n",
       "3                    77.026494       Buffet      motorcycle         23.86   \n",
       "4                    80.289982        Snack         scooter         26.55   \n",
       "\n",
       "   humidity  precipitation weather_description  Unnamed: 14 Traffic_Level  \\\n",
       "0      77.0            0.0                haze          NaN           Low   \n",
       "1      93.0            0.0                mist          NaN     Very High   \n",
       "2      91.0            0.0                mist          NaN           Low   \n",
       "3      78.0            0.0                mist          NaN      Moderate   \n",
       "4      87.0            0.0                mist          NaN          High   \n",
       "\n",
       "   Distance (km)       TARGET  \n",
       "0            NaN  21.66666667  \n",
       "1          37.17  85.26666667  \n",
       "2           3.34  28.58333333  \n",
       "3          10.05  35.18333333  \n",
       "4           9.89        43.45  "
      ]
     },
     "execution_count": 5,
     "metadata": {},
     "output_type": "execute_result"
    }
   ],
   "source": [
    "df.head()"
   ]
  },
  {
   "cell_type": "markdown",
   "metadata": {},
   "source": [
    "Shape of the datasets "
   ]
  },
  {
   "cell_type": "code",
   "execution_count": 6,
   "metadata": {},
   "outputs": [
    {
     "data": {
      "text/plain": [
       "(10001, 18)"
      ]
     },
     "execution_count": 6,
     "metadata": {},
     "output_type": "execute_result"
    }
   ],
   "source": [
    "df.shape"
   ]
  },
  {
   "cell_type": "markdown",
   "metadata": {},
   "source": [
    "## 2.2 Dataset information\n",
    "\n",
    "- ID: Cantaining Dilivery unique id\n",
    "- Delivery_person_ID: Cantaining all unique Delivery person id\n",
    "- Delivery_person_Age: Age of all Delivery person\n",
    "- Delivery_person_Ratings: tell's how satisfied individual person is\n",
    "- Restaurant_latitude: latitude of resturant\n",
    "- Restaurant_longitude: longitude of resturent\n",
    "- Delivery_location_latitude: latitude of delivery location\n",
    "- Delivery_location_longitude: logitude of delivery location\n",
    "- Type_of_order: which type of food a person consume\n",
    "- Type_of_vehicle: Delivery person mode of transportation\n",
    "- temperature: temperature of delivery date \n",
    "- humidity: humidity of delivery date \n",
    "- perseption: as all the person has zero disabality\n",
    "- weather_description: type of weather\n",
    "- Unnamed: 14\n",
    "- Traffic_Level: how Traffic they get based on each delivery\n",
    "- Distance (km): based of km\n",
    "- TARGET: predict how much time it will take for normal delivery person to reach their desired destination"
   ]
  },
  {
   "cell_type": "markdown",
   "metadata": {},
   "source": [
    "### 3. Data Checks to perform \n",
    "\n",
    "- Check Missing values \n",
    "- Check Duplicates \n",
    "- Check data type \n",
    "- Check the number of unique values of each column\n",
    "- Check statistics of data set\n",
    "- Check various categories present in the different catgorical column"
   ]
  },
  {
   "cell_type": "markdown",
   "metadata": {},
   "source": [
    "### 3.1 Check Missing values "
   ]
  },
  {
   "cell_type": "code",
   "execution_count": 7,
   "metadata": {},
   "outputs": [
    {
     "data": {
      "text/plain": [
       "ID                                 1\n",
       "Delivery_person_ID                 1\n",
       "Delivery_person_Age                1\n",
       "Delivery_person_Ratings            1\n",
       "Restaurant_latitude                1\n",
       "Restaurant_longitude               1\n",
       "Delivery_location_latitude         1\n",
       "Delivery_location_longitude        1\n",
       "Type_of_order                      1\n",
       "Type_of_vehicle                    1\n",
       "temperature                        6\n",
       "humidity                           6\n",
       "precipitation                      6\n",
       "weather_description                6\n",
       "Unnamed: 14                    10001\n",
       "Traffic_Level                    916\n",
       "Distance (km)                    921\n",
       "TARGET                           542\n",
       "dtype: int64"
      ]
     },
     "execution_count": 7,
     "metadata": {},
     "output_type": "execute_result"
    }
   ],
   "source": [
    "df.isna().sum()"
   ]
  },
  {
   "cell_type": "markdown",
   "metadata": {},
   "source": [
    "Checking if the column cantain some meaning "
   ]
  },
  {
   "cell_type": "code",
   "execution_count": 8,
   "metadata": {},
   "outputs": [
    {
     "data": {
      "text/html": [
       "<div>\n",
       "<style scoped>\n",
       "    .dataframe tbody tr th:only-of-type {\n",
       "        vertical-align: middle;\n",
       "    }\n",
       "\n",
       "    .dataframe tbody tr th {\n",
       "        vertical-align: top;\n",
       "    }\n",
       "\n",
       "    .dataframe thead th {\n",
       "        text-align: right;\n",
       "    }\n",
       "</style>\n",
       "<table border=\"1\" class=\"dataframe\">\n",
       "  <thead>\n",
       "    <tr style=\"text-align: right;\">\n",
       "      <th></th>\n",
       "      <th>Unnamed: 14</th>\n",
       "      <th>Traffic_Level</th>\n",
       "      <th>Distance (km)</th>\n",
       "      <th>TARGET</th>\n",
       "    </tr>\n",
       "  </thead>\n",
       "  <tbody>\n",
       "    <tr>\n",
       "      <th>0</th>\n",
       "      <td>NaN</td>\n",
       "      <td>Low</td>\n",
       "      <td>NaN</td>\n",
       "      <td>21.66666667</td>\n",
       "    </tr>\n",
       "    <tr>\n",
       "      <th>1</th>\n",
       "      <td>NaN</td>\n",
       "      <td>Very High</td>\n",
       "      <td>37.17</td>\n",
       "      <td>85.26666667</td>\n",
       "    </tr>\n",
       "    <tr>\n",
       "      <th>2</th>\n",
       "      <td>NaN</td>\n",
       "      <td>Low</td>\n",
       "      <td>3.34</td>\n",
       "      <td>28.58333333</td>\n",
       "    </tr>\n",
       "    <tr>\n",
       "      <th>3</th>\n",
       "      <td>NaN</td>\n",
       "      <td>Moderate</td>\n",
       "      <td>10.05</td>\n",
       "      <td>35.18333333</td>\n",
       "    </tr>\n",
       "    <tr>\n",
       "      <th>4</th>\n",
       "      <td>NaN</td>\n",
       "      <td>High</td>\n",
       "      <td>9.89</td>\n",
       "      <td>43.45</td>\n",
       "    </tr>\n",
       "    <tr>\n",
       "      <th>...</th>\n",
       "      <td>...</td>\n",
       "      <td>...</td>\n",
       "      <td>...</td>\n",
       "      <td>...</td>\n",
       "    </tr>\n",
       "    <tr>\n",
       "      <th>9996</th>\n",
       "      <td>NaN</td>\n",
       "      <td>High</td>\n",
       "      <td>18.92</td>\n",
       "      <td>32.61666667</td>\n",
       "    </tr>\n",
       "    <tr>\n",
       "      <th>9997</th>\n",
       "      <td>NaN</td>\n",
       "      <td>Low</td>\n",
       "      <td>2.64</td>\n",
       "      <td>12.01666667</td>\n",
       "    </tr>\n",
       "    <tr>\n",
       "      <th>9998</th>\n",
       "      <td>NaN</td>\n",
       "      <td>Very High</td>\n",
       "      <td>28.80</td>\n",
       "      <td>51.06666667</td>\n",
       "    </tr>\n",
       "    <tr>\n",
       "      <th>9999</th>\n",
       "      <td>NaN</td>\n",
       "      <td>High</td>\n",
       "      <td>17.63</td>\n",
       "      <td>43.8</td>\n",
       "    </tr>\n",
       "    <tr>\n",
       "      <th>10000</th>\n",
       "      <td>NaN</td>\n",
       "      <td>NaN</td>\n",
       "      <td>NaN</td>\n",
       "      <td>NaN</td>\n",
       "    </tr>\n",
       "  </tbody>\n",
       "</table>\n",
       "<p>10001 rows × 4 columns</p>\n",
       "</div>"
      ],
      "text/plain": [
       "       Unnamed: 14 Traffic_Level  Distance (km)       TARGET\n",
       "0              NaN           Low            NaN  21.66666667\n",
       "1              NaN     Very High          37.17  85.26666667\n",
       "2              NaN           Low           3.34  28.58333333\n",
       "3              NaN      Moderate          10.05  35.18333333\n",
       "4              NaN          High           9.89        43.45\n",
       "...            ...           ...            ...          ...\n",
       "9996           NaN          High          18.92  32.61666667\n",
       "9997           NaN           Low           2.64  12.01666667\n",
       "9998           NaN     Very High          28.80  51.06666667\n",
       "9999           NaN          High          17.63         43.8\n",
       "10000          NaN           NaN            NaN          NaN\n",
       "\n",
       "[10001 rows x 4 columns]"
      ]
     },
     "execution_count": 8,
     "metadata": {},
     "output_type": "execute_result"
    }
   ],
   "source": [
    "df[['Unnamed: 14','Traffic_Level','Distance (km)','TARGET']]"
   ]
  },
  {
   "cell_type": "code",
   "execution_count": 9,
   "metadata": {},
   "outputs": [
    {
     "data": {
      "text/html": [
       "<div>\n",
       "<style scoped>\n",
       "    .dataframe tbody tr th:only-of-type {\n",
       "        vertical-align: middle;\n",
       "    }\n",
       "\n",
       "    .dataframe tbody tr th {\n",
       "        vertical-align: top;\n",
       "    }\n",
       "\n",
       "    .dataframe thead th {\n",
       "        text-align: right;\n",
       "    }\n",
       "</style>\n",
       "<table border=\"1\" class=\"dataframe\">\n",
       "  <thead>\n",
       "    <tr style=\"text-align: right;\">\n",
       "      <th></th>\n",
       "      <th>Delivery_person_Age</th>\n",
       "      <th>Delivery_person_Ratings</th>\n",
       "      <th>Restaurant_latitude</th>\n",
       "      <th>Restaurant_longitude</th>\n",
       "      <th>Delivery_location_latitude</th>\n",
       "      <th>Delivery_location_longitude</th>\n",
       "      <th>Type_of_order</th>\n",
       "      <th>Type_of_vehicle</th>\n",
       "      <th>temperature</th>\n",
       "      <th>humidity</th>\n",
       "      <th>weather_description</th>\n",
       "      <th>Traffic_Level</th>\n",
       "      <th>Distance (km)</th>\n",
       "      <th>TARGET</th>\n",
       "    </tr>\n",
       "  </thead>\n",
       "  <tbody>\n",
       "    <tr>\n",
       "      <th>0</th>\n",
       "      <td>37.0</td>\n",
       "      <td>4.9</td>\n",
       "      <td>22.745049</td>\n",
       "      <td>75.892471</td>\n",
       "      <td>22.765049</td>\n",
       "      <td>75.912471</td>\n",
       "      <td>Snack</td>\n",
       "      <td>motorcycle</td>\n",
       "      <td>17.11</td>\n",
       "      <td>77.0</td>\n",
       "      <td>haze</td>\n",
       "      <td>Low</td>\n",
       "      <td>NaN</td>\n",
       "      <td>21.66666667</td>\n",
       "    </tr>\n",
       "    <tr>\n",
       "      <th>1</th>\n",
       "      <td>34.0</td>\n",
       "      <td>4.5</td>\n",
       "      <td>12.913041</td>\n",
       "      <td>77.683237</td>\n",
       "      <td>13.043041</td>\n",
       "      <td>77.813237</td>\n",
       "      <td>Snack</td>\n",
       "      <td>scooter</td>\n",
       "      <td>19.50</td>\n",
       "      <td>93.0</td>\n",
       "      <td>mist</td>\n",
       "      <td>Very High</td>\n",
       "      <td>37.17</td>\n",
       "      <td>85.26666667</td>\n",
       "    </tr>\n",
       "    <tr>\n",
       "      <th>2</th>\n",
       "      <td>23.0</td>\n",
       "      <td>4.4</td>\n",
       "      <td>12.914264</td>\n",
       "      <td>77.678400</td>\n",
       "      <td>12.924264</td>\n",
       "      <td>77.688400</td>\n",
       "      <td>Drinks</td>\n",
       "      <td>motorcycle</td>\n",
       "      <td>20.45</td>\n",
       "      <td>91.0</td>\n",
       "      <td>mist</td>\n",
       "      <td>Low</td>\n",
       "      <td>3.34</td>\n",
       "      <td>28.58333333</td>\n",
       "    </tr>\n",
       "    <tr>\n",
       "      <th>3</th>\n",
       "      <td>38.0</td>\n",
       "      <td>4.7</td>\n",
       "      <td>11.003669</td>\n",
       "      <td>76.976494</td>\n",
       "      <td>11.053669</td>\n",
       "      <td>77.026494</td>\n",
       "      <td>Buffet</td>\n",
       "      <td>motorcycle</td>\n",
       "      <td>23.86</td>\n",
       "      <td>78.0</td>\n",
       "      <td>mist</td>\n",
       "      <td>Moderate</td>\n",
       "      <td>10.05</td>\n",
       "      <td>35.18333333</td>\n",
       "    </tr>\n",
       "    <tr>\n",
       "      <th>4</th>\n",
       "      <td>32.0</td>\n",
       "      <td>4.6</td>\n",
       "      <td>12.972793</td>\n",
       "      <td>80.249982</td>\n",
       "      <td>13.012793</td>\n",
       "      <td>80.289982</td>\n",
       "      <td>Snack</td>\n",
       "      <td>scooter</td>\n",
       "      <td>26.55</td>\n",
       "      <td>87.0</td>\n",
       "      <td>mist</td>\n",
       "      <td>High</td>\n",
       "      <td>9.89</td>\n",
       "      <td>43.45</td>\n",
       "    </tr>\n",
       "    <tr>\n",
       "      <th>...</th>\n",
       "      <td>...</td>\n",
       "      <td>...</td>\n",
       "      <td>...</td>\n",
       "      <td>...</td>\n",
       "      <td>...</td>\n",
       "      <td>...</td>\n",
       "      <td>...</td>\n",
       "      <td>...</td>\n",
       "      <td>...</td>\n",
       "      <td>...</td>\n",
       "      <td>...</td>\n",
       "      <td>...</td>\n",
       "      <td>...</td>\n",
       "      <td>...</td>\n",
       "    </tr>\n",
       "    <tr>\n",
       "      <th>9996</th>\n",
       "      <td>32.0</td>\n",
       "      <td>4.2</td>\n",
       "      <td>22.310237</td>\n",
       "      <td>73.158921</td>\n",
       "      <td>22.400237</td>\n",
       "      <td>73.248921</td>\n",
       "      <td>Meal</td>\n",
       "      <td>motorcycle</td>\n",
       "      <td>23.96</td>\n",
       "      <td>64.0</td>\n",
       "      <td>haze</td>\n",
       "      <td>High</td>\n",
       "      <td>18.92</td>\n",
       "      <td>32.61666667</td>\n",
       "    </tr>\n",
       "    <tr>\n",
       "      <th>9997</th>\n",
       "      <td>36.0</td>\n",
       "      <td>4.7</td>\n",
       "      <td>17.483216</td>\n",
       "      <td>78.552111</td>\n",
       "      <td>17.493216</td>\n",
       "      <td>78.562111</td>\n",
       "      <td>Meal</td>\n",
       "      <td>motorcycle</td>\n",
       "      <td>22.94</td>\n",
       "      <td>60.0</td>\n",
       "      <td>haze</td>\n",
       "      <td>Low</td>\n",
       "      <td>2.64</td>\n",
       "      <td>12.01666667</td>\n",
       "    </tr>\n",
       "    <tr>\n",
       "      <th>9998</th>\n",
       "      <td>37.0</td>\n",
       "      <td>4.6</td>\n",
       "      <td>26.913987</td>\n",
       "      <td>75.752891</td>\n",
       "      <td>27.053987</td>\n",
       "      <td>75.892891</td>\n",
       "      <td>Buffet</td>\n",
       "      <td>scooter</td>\n",
       "      <td>23.72</td>\n",
       "      <td>31.0</td>\n",
       "      <td>clear sky</td>\n",
       "      <td>Very High</td>\n",
       "      <td>28.80</td>\n",
       "      <td>51.06666667</td>\n",
       "    </tr>\n",
       "    <tr>\n",
       "      <th>9999</th>\n",
       "      <td>29.0</td>\n",
       "      <td>4.7</td>\n",
       "      <td>18.994237</td>\n",
       "      <td>72.825553</td>\n",
       "      <td>19.084237</td>\n",
       "      <td>72.915553</td>\n",
       "      <td>Meal</td>\n",
       "      <td>scooter</td>\n",
       "      <td>28.01</td>\n",
       "      <td>57.0</td>\n",
       "      <td>smoke</td>\n",
       "      <td>High</td>\n",
       "      <td>17.63</td>\n",
       "      <td>43.8</td>\n",
       "    </tr>\n",
       "    <tr>\n",
       "      <th>10000</th>\n",
       "      <td>NaN</td>\n",
       "      <td>NaN</td>\n",
       "      <td>NaN</td>\n",
       "      <td>NaN</td>\n",
       "      <td>NaN</td>\n",
       "      <td>NaN</td>\n",
       "      <td>NaN</td>\n",
       "      <td>NaN</td>\n",
       "      <td>NaN</td>\n",
       "      <td>NaN</td>\n",
       "      <td>NaN</td>\n",
       "      <td>NaN</td>\n",
       "      <td>NaN</td>\n",
       "      <td>NaN</td>\n",
       "    </tr>\n",
       "  </tbody>\n",
       "</table>\n",
       "<p>10001 rows × 14 columns</p>\n",
       "</div>"
      ],
      "text/plain": [
       "       Delivery_person_Age  Delivery_person_Ratings  Restaurant_latitude  \\\n",
       "0                     37.0                      4.9            22.745049   \n",
       "1                     34.0                      4.5            12.913041   \n",
       "2                     23.0                      4.4            12.914264   \n",
       "3                     38.0                      4.7            11.003669   \n",
       "4                     32.0                      4.6            12.972793   \n",
       "...                    ...                      ...                  ...   \n",
       "9996                  32.0                      4.2            22.310237   \n",
       "9997                  36.0                      4.7            17.483216   \n",
       "9998                  37.0                      4.6            26.913987   \n",
       "9999                  29.0                      4.7            18.994237   \n",
       "10000                  NaN                      NaN                  NaN   \n",
       "\n",
       "       Restaurant_longitude  Delivery_location_latitude  \\\n",
       "0                 75.892471                   22.765049   \n",
       "1                 77.683237                   13.043041   \n",
       "2                 77.678400                   12.924264   \n",
       "3                 76.976494                   11.053669   \n",
       "4                 80.249982                   13.012793   \n",
       "...                     ...                         ...   \n",
       "9996              73.158921                   22.400237   \n",
       "9997              78.552111                   17.493216   \n",
       "9998              75.752891                   27.053987   \n",
       "9999              72.825553                   19.084237   \n",
       "10000                   NaN                         NaN   \n",
       "\n",
       "       Delivery_location_longitude Type_of_order Type_of_vehicle  temperature  \\\n",
       "0                        75.912471        Snack      motorcycle         17.11   \n",
       "1                        77.813237        Snack         scooter         19.50   \n",
       "2                        77.688400       Drinks      motorcycle         20.45   \n",
       "3                        77.026494       Buffet      motorcycle         23.86   \n",
       "4                        80.289982        Snack         scooter         26.55   \n",
       "...                            ...           ...             ...          ...   \n",
       "9996                     73.248921         Meal      motorcycle         23.96   \n",
       "9997                     78.562111         Meal      motorcycle         22.94   \n",
       "9998                     75.892891       Buffet         scooter         23.72   \n",
       "9999                     72.915553         Meal         scooter         28.01   \n",
       "10000                          NaN           NaN             NaN          NaN   \n",
       "\n",
       "       humidity weather_description Traffic_Level  Distance (km)       TARGET  \n",
       "0          77.0                haze           Low            NaN  21.66666667  \n",
       "1          93.0                mist     Very High          37.17  85.26666667  \n",
       "2          91.0                mist           Low           3.34  28.58333333  \n",
       "3          78.0                mist      Moderate          10.05  35.18333333  \n",
       "4          87.0                mist          High           9.89        43.45  \n",
       "...         ...                 ...           ...            ...          ...  \n",
       "9996       64.0                haze          High          18.92  32.61666667  \n",
       "9997       60.0                haze           Low           2.64  12.01666667  \n",
       "9998       31.0           clear sky     Very High          28.80  51.06666667  \n",
       "9999       57.0               smoke          High          17.63         43.8  \n",
       "10000       NaN                 NaN           NaN            NaN          NaN  \n",
       "\n",
       "[10001 rows x 14 columns]"
      ]
     },
     "execution_count": 9,
     "metadata": {},
     "output_type": "execute_result"
    }
   ],
   "source": [
    "df = df.drop(['ID','Delivery_person_ID','Unnamed: 14','precipitation'],axis ='columns')\n",
    "df"
   ]
  },
  {
   "cell_type": "code",
   "execution_count": 10,
   "metadata": {},
   "outputs": [],
   "source": [
    "df = df.dropna()"
   ]
  },
  {
   "cell_type": "code",
   "execution_count": 11,
   "metadata": {},
   "outputs": [
    {
     "data": {
      "text/plain": [
       "Delivery_person_Age            0\n",
       "Delivery_person_Ratings        0\n",
       "Restaurant_latitude            0\n",
       "Restaurant_longitude           0\n",
       "Delivery_location_latitude     0\n",
       "Delivery_location_longitude    0\n",
       "Type_of_order                  0\n",
       "Type_of_vehicle                0\n",
       "temperature                    0\n",
       "humidity                       0\n",
       "weather_description            0\n",
       "Traffic_Level                  0\n",
       "Distance (km)                  0\n",
       "TARGET                         0\n",
       "dtype: int64"
      ]
     },
     "execution_count": 11,
     "metadata": {},
     "output_type": "execute_result"
    }
   ],
   "source": [
    "df.isna().sum()"
   ]
  },
  {
   "cell_type": "code",
   "execution_count": 12,
   "metadata": {},
   "outputs": [
    {
     "name": "stdout",
     "output_type": "stream",
     "text": [
      "<class 'pandas.core.frame.DataFrame'>\n",
      "Index: 9035 entries, 1 to 9999\n",
      "Data columns (total 14 columns):\n",
      " #   Column                       Non-Null Count  Dtype  \n",
      "---  ------                       --------------  -----  \n",
      " 0   Delivery_person_Age          9035 non-null   float64\n",
      " 1   Delivery_person_Ratings      9035 non-null   float64\n",
      " 2   Restaurant_latitude          9035 non-null   float64\n",
      " 3   Restaurant_longitude         9035 non-null   float64\n",
      " 4   Delivery_location_latitude   9035 non-null   float64\n",
      " 5   Delivery_location_longitude  9035 non-null   float64\n",
      " 6   Type_of_order                9035 non-null   object \n",
      " 7   Type_of_vehicle              9035 non-null   object \n",
      " 8   temperature                  9035 non-null   float64\n",
      " 9   humidity                     9035 non-null   float64\n",
      " 10  weather_description          9035 non-null   object \n",
      " 11  Traffic_Level                9035 non-null   object \n",
      " 12  Distance (km)                9035 non-null   float64\n",
      " 13  TARGET                       9035 non-null   object \n",
      "dtypes: float64(9), object(5)\n",
      "memory usage: 1.0+ MB\n"
     ]
    }
   ],
   "source": [
    "df.info()"
   ]
  },
  {
   "cell_type": "markdown",
   "metadata": {},
   "source": [
    "#### Data cleaning is completed."
   ]
  },
  {
   "cell_type": "markdown",
   "metadata": {},
   "source": [
    "### 3.2 Check Duplicates"
   ]
  },
  {
   "cell_type": "code",
   "execution_count": 13,
   "metadata": {},
   "outputs": [
    {
     "data": {
      "text/plain": [
       "np.int64(0)"
      ]
     },
     "execution_count": 13,
     "metadata": {},
     "output_type": "execute_result"
    }
   ],
   "source": [
    "df.duplicated().sum()"
   ]
  },
  {
   "cell_type": "markdown",
   "metadata": {},
   "source": [
    "#### There are no duplicate values in the data set"
   ]
  },
  {
   "cell_type": "markdown",
   "metadata": {},
   "source": [
    "### 3.3 Check data types"
   ]
  },
  {
   "cell_type": "code",
   "execution_count": 14,
   "metadata": {},
   "outputs": [
    {
     "name": "stdout",
     "output_type": "stream",
     "text": [
      "<class 'pandas.core.frame.DataFrame'>\n",
      "Index: 9035 entries, 1 to 9999\n",
      "Data columns (total 14 columns):\n",
      " #   Column                       Non-Null Count  Dtype  \n",
      "---  ------                       --------------  -----  \n",
      " 0   Delivery_person_Age          9035 non-null   float64\n",
      " 1   Delivery_person_Ratings      9035 non-null   float64\n",
      " 2   Restaurant_latitude          9035 non-null   float64\n",
      " 3   Restaurant_longitude         9035 non-null   float64\n",
      " 4   Delivery_location_latitude   9035 non-null   float64\n",
      " 5   Delivery_location_longitude  9035 non-null   float64\n",
      " 6   Type_of_order                9035 non-null   object \n",
      " 7   Type_of_vehicle              9035 non-null   object \n",
      " 8   temperature                  9035 non-null   float64\n",
      " 9   humidity                     9035 non-null   float64\n",
      " 10  weather_description          9035 non-null   object \n",
      " 11  Traffic_Level                9035 non-null   object \n",
      " 12  Distance (km)                9035 non-null   float64\n",
      " 13  TARGET                       9035 non-null   object \n",
      "dtypes: float64(9), object(5)\n",
      "memory usage: 1.0+ MB\n"
     ]
    }
   ],
   "source": [
    "# check Null and Dtypes\n",
    "df.info()"
   ]
  },
  {
   "cell_type": "markdown",
   "metadata": {},
   "source": [
    "### 3.4 Checking the number of unique values of each column"
   ]
  },
  {
   "cell_type": "code",
   "execution_count": 15,
   "metadata": {},
   "outputs": [
    {
     "data": {
      "text/plain": [
       "Delivery_person_Age              22\n",
       "Delivery_person_Ratings          28\n",
       "Restaurant_latitude             388\n",
       "Restaurant_longitude            388\n",
       "Delivery_location_latitude     3375\n",
       "Delivery_location_longitude    3375\n",
       "Type_of_order                     4\n",
       "Type_of_vehicle                   4\n",
       "temperature                    1058\n",
       "humidity                         64\n",
       "weather_description              10\n",
       "Traffic_Level                     5\n",
       "Distance (km)                  2338\n",
       "TARGET                         3387\n",
       "dtype: int64"
      ]
     },
     "execution_count": 15,
     "metadata": {},
     "output_type": "execute_result"
    }
   ],
   "source": [
    "df.nunique()"
   ]
  },
  {
   "cell_type": "markdown",
   "metadata": {},
   "source": [
    "### 3.5 Check stastics of data set"
   ]
  },
  {
   "cell_type": "code",
   "execution_count": 16,
   "metadata": {},
   "outputs": [
    {
     "data": {
      "text/html": [
       "<div>\n",
       "<style scoped>\n",
       "    .dataframe tbody tr th:only-of-type {\n",
       "        vertical-align: middle;\n",
       "    }\n",
       "\n",
       "    .dataframe tbody tr th {\n",
       "        vertical-align: top;\n",
       "    }\n",
       "\n",
       "    .dataframe thead th {\n",
       "        text-align: right;\n",
       "    }\n",
       "</style>\n",
       "<table border=\"1\" class=\"dataframe\">\n",
       "  <thead>\n",
       "    <tr style=\"text-align: right;\">\n",
       "      <th></th>\n",
       "      <th>Delivery_person_Age</th>\n",
       "      <th>Delivery_person_Ratings</th>\n",
       "      <th>Restaurant_latitude</th>\n",
       "      <th>Restaurant_longitude</th>\n",
       "      <th>Delivery_location_latitude</th>\n",
       "      <th>Delivery_location_longitude</th>\n",
       "      <th>temperature</th>\n",
       "      <th>humidity</th>\n",
       "      <th>Distance (km)</th>\n",
       "    </tr>\n",
       "  </thead>\n",
       "  <tbody>\n",
       "    <tr>\n",
       "      <th>count</th>\n",
       "      <td>9035.000000</td>\n",
       "      <td>9035.000000</td>\n",
       "      <td>9035.000000</td>\n",
       "      <td>9035.000000</td>\n",
       "      <td>9035.000000</td>\n",
       "      <td>9035.000000</td>\n",
       "      <td>9035.000000</td>\n",
       "      <td>9035.000000</td>\n",
       "      <td>9035.000000</td>\n",
       "    </tr>\n",
       "    <tr>\n",
       "      <th>mean</th>\n",
       "      <td>29.512341</td>\n",
       "      <td>4.625744</td>\n",
       "      <td>18.873083</td>\n",
       "      <td>76.962812</td>\n",
       "      <td>18.936844</td>\n",
       "      <td>77.026573</td>\n",
       "      <td>22.623112</td>\n",
       "      <td>64.593470</td>\n",
       "      <td>14.275582</td>\n",
       "    </tr>\n",
       "    <tr>\n",
       "      <th>std</th>\n",
       "      <td>5.692078</td>\n",
       "      <td>0.323220</td>\n",
       "      <td>5.455782</td>\n",
       "      <td>3.546363</td>\n",
       "      <td>5.457840</td>\n",
       "      <td>3.546304</td>\n",
       "      <td>3.356308</td>\n",
       "      <td>15.373743</td>\n",
       "      <td>8.372376</td>\n",
       "    </tr>\n",
       "    <tr>\n",
       "      <th>min</th>\n",
       "      <td>15.000000</td>\n",
       "      <td>1.000000</td>\n",
       "      <td>9.957144</td>\n",
       "      <td>72.768726</td>\n",
       "      <td>9.967144</td>\n",
       "      <td>72.778726</td>\n",
       "      <td>6.770000</td>\n",
       "      <td>27.000000</td>\n",
       "      <td>1.550000</td>\n",
       "    </tr>\n",
       "    <tr>\n",
       "      <th>25%</th>\n",
       "      <td>25.000000</td>\n",
       "      <td>4.500000</td>\n",
       "      <td>12.983831</td>\n",
       "      <td>73.898520</td>\n",
       "      <td>13.062161</td>\n",
       "      <td>73.947902</td>\n",
       "      <td>19.940000</td>\n",
       "      <td>52.000000</td>\n",
       "      <td>7.610000</td>\n",
       "    </tr>\n",
       "    <tr>\n",
       "      <th>50%</th>\n",
       "      <td>29.000000</td>\n",
       "      <td>4.700000</td>\n",
       "      <td>19.055831</td>\n",
       "      <td>76.619103</td>\n",
       "      <td>19.113249</td>\n",
       "      <td>76.672278</td>\n",
       "      <td>22.860000</td>\n",
       "      <td>65.000000</td>\n",
       "      <td>13.400000</td>\n",
       "    </tr>\n",
       "    <tr>\n",
       "      <th>75%</th>\n",
       "      <td>34.000000</td>\n",
       "      <td>4.800000</td>\n",
       "      <td>22.750040</td>\n",
       "      <td>78.368855</td>\n",
       "      <td>22.815748</td>\n",
       "      <td>78.405883</td>\n",
       "      <td>25.000000</td>\n",
       "      <td>73.000000</td>\n",
       "      <td>19.590000</td>\n",
       "    </tr>\n",
       "    <tr>\n",
       "      <th>max</th>\n",
       "      <td>50.000000</td>\n",
       "      <td>6.000000</td>\n",
       "      <td>30.914057</td>\n",
       "      <td>88.433452</td>\n",
       "      <td>31.054057</td>\n",
       "      <td>88.563452</td>\n",
       "      <td>29.050000</td>\n",
       "      <td>94.000000</td>\n",
       "      <td>59.840000</td>\n",
       "    </tr>\n",
       "  </tbody>\n",
       "</table>\n",
       "</div>"
      ],
      "text/plain": [
       "       Delivery_person_Age  Delivery_person_Ratings  Restaurant_latitude  \\\n",
       "count          9035.000000              9035.000000          9035.000000   \n",
       "mean             29.512341                 4.625744            18.873083   \n",
       "std               5.692078                 0.323220             5.455782   \n",
       "min              15.000000                 1.000000             9.957144   \n",
       "25%              25.000000                 4.500000            12.983831   \n",
       "50%              29.000000                 4.700000            19.055831   \n",
       "75%              34.000000                 4.800000            22.750040   \n",
       "max              50.000000                 6.000000            30.914057   \n",
       "\n",
       "       Restaurant_longitude  Delivery_location_latitude  \\\n",
       "count           9035.000000                 9035.000000   \n",
       "mean              76.962812                   18.936844   \n",
       "std                3.546363                    5.457840   \n",
       "min               72.768726                    9.967144   \n",
       "25%               73.898520                   13.062161   \n",
       "50%               76.619103                   19.113249   \n",
       "75%               78.368855                   22.815748   \n",
       "max               88.433452                   31.054057   \n",
       "\n",
       "       Delivery_location_longitude  temperature     humidity  Distance (km)  \n",
       "count                  9035.000000  9035.000000  9035.000000    9035.000000  \n",
       "mean                     77.026573    22.623112    64.593470      14.275582  \n",
       "std                       3.546304     3.356308    15.373743       8.372376  \n",
       "min                      72.778726     6.770000    27.000000       1.550000  \n",
       "25%                      73.947902    19.940000    52.000000       7.610000  \n",
       "50%                      76.672278    22.860000    65.000000      13.400000  \n",
       "75%                      78.405883    25.000000    73.000000      19.590000  \n",
       "max                      88.563452    29.050000    94.000000      59.840000  "
      ]
     },
     "execution_count": 16,
     "metadata": {},
     "output_type": "execute_result"
    }
   ],
   "source": [
    "df.describe()"
   ]
  },
  {
   "cell_type": "markdown",
   "metadata": {},
   "source": [
    "#### Insight \n",
    "\n",
    "- from above desription of numerical data, all means are very close to each other - between 4.6 and 77\n",
    "- All standard deviation are also close - between 0.3 and 15.3\n",
    "- While there is a minimum score of = 1.5"
   ]
  },
  {
   "cell_type": "markdown",
   "metadata": {},
   "source": [
    "### 3.7 Exploring Data"
   ]
  },
  {
   "cell_type": "code",
   "execution_count": 17,
   "metadata": {},
   "outputs": [],
   "source": [
    "df['TARGET'] = df['TARGET'].astype(float)"
   ]
  },
  {
   "cell_type": "code",
   "execution_count": 18,
   "metadata": {},
   "outputs": [
    {
     "name": "stdout",
     "output_type": "stream",
     "text": [
      "<class 'pandas.core.frame.DataFrame'>\n",
      "Index: 5 entries, 1 to 5\n",
      "Data columns (total 14 columns):\n",
      " #   Column                       Non-Null Count  Dtype  \n",
      "---  ------                       --------------  -----  \n",
      " 0   Delivery_person_Age          5 non-null      float64\n",
      " 1   Delivery_person_Ratings      5 non-null      float64\n",
      " 2   Restaurant_latitude          5 non-null      float64\n",
      " 3   Restaurant_longitude         5 non-null      float64\n",
      " 4   Delivery_location_latitude   5 non-null      float64\n",
      " 5   Delivery_location_longitude  5 non-null      float64\n",
      " 6   Type_of_order                5 non-null      object \n",
      " 7   Type_of_vehicle              5 non-null      object \n",
      " 8   temperature                  5 non-null      float64\n",
      " 9   humidity                     5 non-null      float64\n",
      " 10  weather_description          5 non-null      object \n",
      " 11  Traffic_Level                5 non-null      object \n",
      " 12  Distance (km)                5 non-null      float64\n",
      " 13  TARGET                       5 non-null      float64\n",
      "dtypes: float64(10), object(4)\n",
      "memory usage: 600.0+ bytes\n"
     ]
    }
   ],
   "source": [
    "df.head().info()"
   ]
  },
  {
   "cell_type": "code",
   "execution_count": 19,
   "metadata": {},
   "outputs": [
    {
     "name": "stdout",
     "output_type": "stream",
     "text": [
      "Categories in 'order' variable:    ['Snack ' 'Drinks ' 'Buffet ' 'Meal ']\n",
      "Categories in 'vehicle' variable:  ['scooter ' 'motorcycle ' 'electric_scooter ' 'bicycle ']\n",
      "Categories in 'Weather' variable:  ['mist' 'broken clouds' 'clear sky' 'scattered clouds' 'overcast clouds'\n",
      " 'haze' 'smoke' 'fog' 'few clouds' 'moderate rain']\n"
     ]
    }
   ],
   "source": [
    "print(\"Categories in 'order' variable:   \",end=' ')\n",
    "print(df['Type_of_order'].unique())\n",
    "\n",
    "print(\"Categories in 'vehicle' variable: \",end=\" \")\n",
    "print(df['Type_of_vehicle'].unique())\n",
    "\n",
    "print(\"Categories in 'Weather' variable: \",end=\" \")\n",
    "print(df['weather_description'].unique())\n"
   ]
  },
  {
   "cell_type": "code",
   "execution_count": 20,
   "metadata": {},
   "outputs": [
    {
     "data": {
      "text/html": [
       "<div>\n",
       "<style scoped>\n",
       "    .dataframe tbody tr th:only-of-type {\n",
       "        vertical-align: middle;\n",
       "    }\n",
       "\n",
       "    .dataframe tbody tr th {\n",
       "        vertical-align: top;\n",
       "    }\n",
       "\n",
       "    .dataframe thead th {\n",
       "        text-align: right;\n",
       "    }\n",
       "</style>\n",
       "<table border=\"1\" class=\"dataframe\">\n",
       "  <thead>\n",
       "    <tr style=\"text-align: right;\">\n",
       "      <th></th>\n",
       "      <th>Delivery_person_Age</th>\n",
       "      <th>Delivery_person_Ratings</th>\n",
       "      <th>Restaurant_latitude</th>\n",
       "      <th>Restaurant_longitude</th>\n",
       "      <th>Delivery_location_latitude</th>\n",
       "      <th>Delivery_location_longitude</th>\n",
       "      <th>Type_of_order</th>\n",
       "      <th>Type_of_vehicle</th>\n",
       "      <th>temperature</th>\n",
       "      <th>humidity</th>\n",
       "      <th>weather_description</th>\n",
       "      <th>Traffic_Level</th>\n",
       "      <th>Distance (km)</th>\n",
       "      <th>TARGET</th>\n",
       "    </tr>\n",
       "  </thead>\n",
       "  <tbody>\n",
       "    <tr>\n",
       "      <th>1</th>\n",
       "      <td>34.0</td>\n",
       "      <td>4.5</td>\n",
       "      <td>12.913041</td>\n",
       "      <td>77.683237</td>\n",
       "      <td>13.043041</td>\n",
       "      <td>77.813237</td>\n",
       "      <td>Snack</td>\n",
       "      <td>scooter</td>\n",
       "      <td>19.50</td>\n",
       "      <td>93.0</td>\n",
       "      <td>mist</td>\n",
       "      <td>Very High</td>\n",
       "      <td>37.17</td>\n",
       "      <td>85.266667</td>\n",
       "    </tr>\n",
       "    <tr>\n",
       "      <th>2</th>\n",
       "      <td>23.0</td>\n",
       "      <td>4.4</td>\n",
       "      <td>12.914264</td>\n",
       "      <td>77.678400</td>\n",
       "      <td>12.924264</td>\n",
       "      <td>77.688400</td>\n",
       "      <td>Drinks</td>\n",
       "      <td>motorcycle</td>\n",
       "      <td>20.45</td>\n",
       "      <td>91.0</td>\n",
       "      <td>mist</td>\n",
       "      <td>Low</td>\n",
       "      <td>3.34</td>\n",
       "      <td>28.583333</td>\n",
       "    </tr>\n",
       "    <tr>\n",
       "      <th>3</th>\n",
       "      <td>38.0</td>\n",
       "      <td>4.7</td>\n",
       "      <td>11.003669</td>\n",
       "      <td>76.976494</td>\n",
       "      <td>11.053669</td>\n",
       "      <td>77.026494</td>\n",
       "      <td>Buffet</td>\n",
       "      <td>motorcycle</td>\n",
       "      <td>23.86</td>\n",
       "      <td>78.0</td>\n",
       "      <td>mist</td>\n",
       "      <td>Moderate</td>\n",
       "      <td>10.05</td>\n",
       "      <td>35.183333</td>\n",
       "    </tr>\n",
       "    <tr>\n",
       "      <th>4</th>\n",
       "      <td>32.0</td>\n",
       "      <td>4.6</td>\n",
       "      <td>12.972793</td>\n",
       "      <td>80.249982</td>\n",
       "      <td>13.012793</td>\n",
       "      <td>80.289982</td>\n",
       "      <td>Snack</td>\n",
       "      <td>scooter</td>\n",
       "      <td>26.55</td>\n",
       "      <td>87.0</td>\n",
       "      <td>mist</td>\n",
       "      <td>High</td>\n",
       "      <td>9.89</td>\n",
       "      <td>43.450000</td>\n",
       "    </tr>\n",
       "    <tr>\n",
       "      <th>5</th>\n",
       "      <td>22.0</td>\n",
       "      <td>4.8</td>\n",
       "      <td>17.431668</td>\n",
       "      <td>78.408321</td>\n",
       "      <td>17.461668</td>\n",
       "      <td>78.438321</td>\n",
       "      <td>Buffet</td>\n",
       "      <td>motorcycle</td>\n",
       "      <td>21.43</td>\n",
       "      <td>65.0</td>\n",
       "      <td>broken clouds</td>\n",
       "      <td>Moderate</td>\n",
       "      <td>11.30</td>\n",
       "      <td>30.600000</td>\n",
       "    </tr>\n",
       "  </tbody>\n",
       "</table>\n",
       "</div>"
      ],
      "text/plain": [
       "   Delivery_person_Age  Delivery_person_Ratings  Restaurant_latitude  \\\n",
       "1                 34.0                      4.5            12.913041   \n",
       "2                 23.0                      4.4            12.914264   \n",
       "3                 38.0                      4.7            11.003669   \n",
       "4                 32.0                      4.6            12.972793   \n",
       "5                 22.0                      4.8            17.431668   \n",
       "\n",
       "   Restaurant_longitude  Delivery_location_latitude  \\\n",
       "1             77.683237                   13.043041   \n",
       "2             77.678400                   12.924264   \n",
       "3             76.976494                   11.053669   \n",
       "4             80.249982                   13.012793   \n",
       "5             78.408321                   17.461668   \n",
       "\n",
       "   Delivery_location_longitude Type_of_order Type_of_vehicle  temperature  \\\n",
       "1                    77.813237        Snack         scooter         19.50   \n",
       "2                    77.688400       Drinks      motorcycle         20.45   \n",
       "3                    77.026494       Buffet      motorcycle         23.86   \n",
       "4                    80.289982        Snack         scooter         26.55   \n",
       "5                    78.438321       Buffet      motorcycle         21.43   \n",
       "\n",
       "   humidity weather_description Traffic_Level  Distance (km)     TARGET  \n",
       "1      93.0                mist     Very High          37.17  85.266667  \n",
       "2      91.0                mist           Low           3.34  28.583333  \n",
       "3      78.0                mist      Moderate          10.05  35.183333  \n",
       "4      87.0                mist          High           9.89  43.450000  \n",
       "5      65.0       broken clouds      Moderate          11.30  30.600000  "
      ]
     },
     "execution_count": 20,
     "metadata": {},
     "output_type": "execute_result"
    }
   ],
   "source": [
    "df.head()"
   ]
  },
  {
   "cell_type": "code",
   "execution_count": 21,
   "metadata": {},
   "outputs": [
    {
     "name": "stdout",
     "output_type": "stream",
     "text": [
      "we have 10 : ['Delivery_person_Age', 'Delivery_person_Ratings', 'Restaurant_latitude', 'Restaurant_longitude', 'Delivery_location_latitude', 'Delivery_location_longitude', 'temperature', 'humidity', 'Distance (km)', 'TARGET']\n",
      "we have 4: ['Type_of_order', 'Type_of_vehicle', 'weather_description', 'Traffic_Level']\n"
     ]
    }
   ],
   "source": [
    "# define numerical and categorical columns \n",
    "numeric_feature = [feature for feature in df.columns if df[feature].dtype != 'O']\n",
    "categorical_feature = [feature for feature in df.columns if df[feature].dtype =='O']\n",
    "\n",
    "# print columns \n",
    "print(f'we have {len(numeric_feature)} : {numeric_feature}')\n",
    "print(f'we have {len(categorical_feature)}: {categorical_feature}')"
   ]
  },
  {
   "cell_type": "markdown",
   "metadata": {},
   "source": [
    "### 3.8 Feature engineer \n",
    "\n",
    "- but all feature are unique and can't produce no new cColumns from them \n",
    "- and if you think like adding logitude and latitude would be benifit then read below \n",
    "- Adding them together combines these unrelated measures into a single number, which doesn't correspond to a real-world location or serve any meaningful geographic purpose."
   ]
  },
  {
   "cell_type": "markdown",
   "metadata": {},
   "source": [
    "# 4. Exploring Data (Visualisation)\n",
    "\n",
    "### 4.1 Visualize average score distribution to make some conclusion \n",
    "\n",
    "\n",
    "- Histogram\n",
    "- Kernal distribution Funtion (KDE)\n",
    "\n",
    "\n",
    "\n",
    "\n",
    "### 4.1.1 Histogram and KDE"
   ]
  },
  {
   "cell_type": "code",
   "execution_count": 24,
   "metadata": {},
   "outputs": [
    {
     "data": {
      "image/png": "[encoded data removed]",
      "text/plain": [
       "<Figure size 1500x700 with 2 Axes>"
      ]
     },
     "metadata": {},
     "output_type": "display_data"
    }
   ],
   "source": [
    "fig, axs= plt.subplots(1, 2, figsize=(15, 7))\n",
    "plt.subplot(121)\n",
    "sns.histplot(data=df,x='TARGET', bins=30,kde=True,color='g')\n",
    "plt.subplot(122)\n",
    "sns.histplot(data=df,x='TARGET',kde=True,hue='Type_of_vehicle')\n",
    "plt.show()\n"
   ]
  },
  {
   "cell_type": "code",
   "execution_count": 25,
   "metadata": {},
   "outputs": [
    {
     "data": {
      "image/png": "[encoded data removed]",
      "text/plain": [
       "<Figure size 1500x700 with 2 Axes>"
      ]
     },
     "metadata": {},
     "output_type": "display_data"
    }
   ],
   "source": [
    "fig, axs= plt.subplots(1, 2, figsize=(15, 7))\n",
    "plt.subplot(121)\n",
    "sns.histplot(data=df,x='Delivery_person_Age', bins=30,kde=True,color='g')\n",
    "plt.subplot(122)\n",
    "sns.histplot(data=df,x='Delivery_person_Age',kde=True,hue='Type_of_vehicle')\n",
    "plt.show()\n"
   ]
  },
  {
   "cell_type": "markdown",
   "metadata": {},
   "source": [
    "#### insights \n",
    "\n",
    "- person 30 to 40 perfoms well in motercycle in between 30"
   ]
  },
  {
   "cell_type": "code",
   "execution_count": null,
   "metadata": {},
   "outputs": [],
   "source": []
  }
 ],
 "metadata": {
  "kernelspec": {
   "display_name": "Python 3",
   "language": "python",
   "name": "python3"
  },
  "language_info": {
   "codemirror_mode": {
    "name": "ipython",
    "version": 3
   },
   "file_extension": ".py",
   "mimetype": "text/x-python",
   "name": "python",
   "nbconvert_exporter": "python",
   "pygments_lexer": "ipython3",
   "version": "3.12.6"
  }
 },
 "nbformat": 4,
 "nbformat_minor": 2
}
